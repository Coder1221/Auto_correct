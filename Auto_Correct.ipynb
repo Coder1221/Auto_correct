{
  "nbformat": 4,
  "nbformat_minor": 0,
  "metadata": {
    "coursera": {
      "schema_names": [
        "NLPC2-1"
      ]
    },
    "kernelspec": {
      "display_name": "Python 3",
      "language": "python",
      "name": "python3"
    },
    "language_info": {
      "codemirror_mode": {
        "name": "ipython",
        "version": 3
      },
      "file_extension": ".py",
      "mimetype": "text/x-python",
      "name": "python",
      "nbconvert_exporter": "python",
      "pygments_lexer": "ipython3",
      "version": "3.8.2"
    },
    "colab": {
      "name": "Auto_Correct.ipynb",
      "provenance": []
    }
  },
  "cells": [
    {
      "cell_type": "markdown",
      "metadata": {
        "id": "YSWyBiGixMRo",
        "colab_type": "text"
      },
      "source": [
        "# Assignment 1: Auto Correct\n",
        "\n",
        "Welcome to the first assignment of Course 2. This assignment will give you a chance to brush up on your python and probability skills. In doing so, you will implement an auto-correct system that is very effective and useful."
      ]
    },
    {
      "cell_type": "markdown",
      "metadata": {
        "id": "Zzox41c7xMRp",
        "colab_type": "text"
      },
      "source": [
        "<a name='0'></a>\n",
        "## 0. Overview\n",
        "\n",
        "You use autocorrect every day on your cell phone and computer. In this assignment, you will explore what really goes on behind the scenes. Of course, the model you are about to implement is not identical to the one used in your phone, but it is still quite good. \n",
        "\n",
        "By completing this assignment you will learn how to: \n",
        "\n",
        "- Get a word count given a corpus\n",
        "- Get a word probability in the corpus \n",
        "- Manipulate strings \n",
        "- Filter strings \n",
        "- Implement Minimum edit distance to compare strings and to help find the optimal path for the edits. \n",
        "- Understand how dynamic programming works\n",
        "\n",
        "\n",
        "Similar systems are used everywhere. \n",
        "- For example, if you type in the word **\"I am lerningg\"**, chances are very high that you meant to write **\"learning\"**, as shown in **Figure 1**. "
      ]
    },
    {
      "cell_type": "markdown",
      "metadata": {
        "id": "mO56fb9TxMRq",
        "colab_type": "text"
      },
      "source": [
        "<div style=\"width:image width px; font-size:100%; text-align:center;\"><img src='https://github.com/Coder1221/Auto_correct/blob/master/auto-correct.png?raw=1' alt=\"alternate text\" width=\"width\" height=\"height\" style=\"width:300px;height:250px;\" /> Figure 1 </div>"
      ]
    },
    {
      "cell_type": "markdown",
      "metadata": {
        "id": "udkyMJ0KxMRq",
        "colab_type": "text"
      },
      "source": [
        "<a name='0-1'></a>\n",
        "#### 0.1 Edit Distance\n",
        "\n",
        "In this assignment, you will implement models that correct words that are 1 and 2 edit distances away. \n",
        "- We say two words are n edit distance away from each other when we need n edits to change one word into another. \n",
        "\n",
        "An edit could consist of one of the following options: \n",
        "\n",
        "- Delete (remove a letter): ‘hat’ => ‘at, ha, ht’\n",
        "- Switch (swap 2 adjacent letters): ‘eta’ => ‘eat, tea,...’\n",
        "- Replace (change 1 letter to another): ‘jat’ => ‘hat, rat, cat, mat, ...’\n",
        "- Insert (add a letter): ‘te’ => ‘the, ten, ate, ...’\n",
        "\n",
        "You will be using the four methods above to implement an Auto-correct. \n",
        "- To do so, you will need to compute probabilities that a certain word is correct given an input. \n",
        "\n",
        "This auto-correct you are about to implement was first created by [Peter Norvig](https://en.wikipedia.org/wiki/Peter_Norvig) in 2007. \n",
        "- His [original article](https://norvig.com/spell-correct.html) may be a useful reference for this assignment.\n",
        "\n",
        "The goal of our spell check model is to compute the following probability:\n",
        "\n",
        "$$P(c|w) = \\frac{P(w|c)\\times P(c)}{P(w)} \\tag{Eqn-1}$$\n",
        "\n",
        "The equation above is [Bayes Rule](https://en.wikipedia.org/wiki/Bayes%27_theorem). \n",
        "- Equation 1 says that the probability of a word being correct $P(c|w) $is equal to the probability of having a certain word $w$, given that it is correct $P(w|c)$, multiplied by the probability of being correct in general $P(C)$ divided by the probability of that word $w$ appearing $P(w)$ in general.\n",
        "- To compute equation 1, you will first import a data set and then create all the probabilities that you need using that data set. "
      ]
    },
    {
      "cell_type": "markdown",
      "metadata": {
        "id": "sEWwekbrxMRr",
        "colab_type": "text"
      },
      "source": [
        "<a name='1'></a>\n",
        "# Part 1: Data Preprocessing "
      ]
    },
    {
      "cell_type": "code",
      "metadata": {
        "id": "Ce5nvB6PxMRr",
        "colab_type": "code",
        "colab": {}
      },
      "source": [
        "import re\n",
        "from collections import Counter\n",
        "import numpy as np\n",
        "import pandas as pd"
      ],
      "execution_count": 2,
      "outputs": []
    },
    {
      "cell_type": "markdown",
      "metadata": {
        "id": "Xc93sYu2xMRu",
        "colab_type": "text"
      },
      "source": [
        "As in any other machine learning task, the first thing you have to do is process your data set. \n",
        "- Many courses load in pre-processed data for you. \n",
        "- However, in the real world, when you build these NLP systems, you load the datasets and process them.\n",
        "- So let's get some real world practice in pre-processing the data!\n",
        "\n",
        "Your first task is to read in a file called **'shakespeare.txt'** which is found in your file directory. To look at this file you can go to `File ==> Open `. "
      ]
    },
    {
      "cell_type": "markdown",
      "metadata": {
        "id": "rbtJLNNFxMRv",
        "colab_type": "text"
      },
      "source": [
        "<a name='ex-1'></a>\n",
        "### Exercise 1\n",
        "Implement the function `process_data` which \n",
        "\n",
        "1) Reads in a corpus (text file)\n",
        "\n",
        "2) Changes everything to lowercase\n",
        "\n",
        "3) Returns a list of words. "
      ]
    },
    {
      "cell_type": "code",
      "metadata": {
        "id": "0vP7XzlZxMRv",
        "colab_type": "code",
        "colab": {}
      },
      "source": [
        "def process_data(file_name):\n",
        "    words = [] \n",
        "    with open(file_name) as f:\n",
        "        data = f.read()\n",
        "    data=data.lower()\n",
        "    words = re.findall('\\w+',data)\n",
        "    return words"
      ],
      "execution_count": 1,
      "outputs": []
    },
    {
      "cell_type": "markdown",
      "metadata": {
        "id": "BGe9hQn4xMR3",
        "colab_type": "text"
      },
      "source": [
        "Note, in the following cell, 'words' is converted to a python `set`. This eliminates any duplicate entries."
      ]
    },
    {
      "cell_type": "code",
      "metadata": {
        "id": "ieW8SIsMxMR3",
        "colab_type": "code",
        "colab": {},
        "outputId": "7070904e-d0b8-4d55-9b21-e58759f5a3fe"
      },
      "source": [
        "#DO NOT MODIFY THIS CELL\n",
        "word_l = process_data('shakespeare.txt')\n",
        "vocab = set(word_l)  # this will be your new vocabulary\n",
        "print(f\"The first ten words in the text are: \\n{word_l[0:10]}\")\n",
        "print(f\"There are {len(vocab)} unique words in the vocabulary.\")"
      ],
      "execution_count": null,
      "outputs": [
        {
          "output_type": "stream",
          "text": [
            "The first ten words in the text are: \n",
            "['o', 'for', 'a', 'muse', 'of', 'fire', 'that', 'would', 'ascend', 'the']\n",
            "There are 6116 unique words in the vocabulary.\n"
          ],
          "name": "stdout"
        }
      ]
    },
    {
      "cell_type": "markdown",
      "metadata": {
        "id": "18S4ldKbxMR7",
        "colab_type": "text"
      },
      "source": [
        "#### Expected Output\n",
        "```Python\n",
        "The first ten words in the text are: \n",
        "['o', 'for', 'a', 'muse', 'of', 'fire', 'that', 'would', 'ascend', 'the']\n",
        "There are 6116 unique words in the vocabulary.\n",
        "```"
      ]
    },
    {
      "cell_type": "markdown",
      "metadata": {
        "id": "udzs8DltxMR7",
        "colab_type": "text"
      },
      "source": [
        "<a name='ex-2'></a>\n",
        "### Exercise 2\n",
        "\n",
        "Implement a `get_count` function that returns a dictionary\n",
        "- The dictionary's keys are words\n",
        "- The value for each word is the number of times that word appears in the corpus. \n",
        "\n",
        "For example, given the following sentence: **\"I am happy because I am learning\"**, your dictionary should return the following: \n",
        "<table style=\"width:20%\">\n",
        "\n",
        "  <tr>\n",
        "    <td> <b>Key </b>  </td>\n",
        "    <td> <b>Value </b> </td> \n",
        "\n",
        "\n",
        "  </tr>\n",
        "  <tr>\n",
        "    <td> I  </td>\n",
        "    <td> 2</td> \n",
        " \n",
        "  </tr>\n",
        "   \n",
        "  <tr>\n",
        "    <td>am</td>\n",
        "    <td>2</td> \n",
        "  </tr>\n",
        "\n",
        "  <tr>\n",
        "    <td>happy</td>\n",
        "    <td>1</td> \n",
        "  </tr>\n",
        "  \n",
        "   <tr>\n",
        "    <td>because</td>\n",
        "    <td>1</td> \n",
        "  </tr>\n",
        "  \n",
        "   <tr>\n",
        "    <td>learning</td>\n",
        "    <td>1</td> \n",
        "  </tr>\n",
        "</table>\n",
        "\n",
        "\n",
        "**Instructions**: \n",
        "Implement a `get_count` which returns a dictionary where the key is a word and the value is the number of times the word appears in the list.  \n"
      ]
    },
    {
      "cell_type": "code",
      "metadata": {
        "id": "T6PbXoHsxMR8",
        "colab_type": "code",
        "colab": {}
      },
      "source": [
        "def get_count(word_l):\n",
        "    '''\n",
        "    Input:\n",
        "        word_l: a set of words representing the corpus. \n",
        "    Output:\n",
        "        word_count_dict: The wordcount dictionary where key is the word and value is its frequency.\n",
        "    '''\n",
        "    word_count_dict = {}\n",
        "    word_count_dict = Counter(word_l)\n",
        "    return word_count_dict"
      ],
      "execution_count": null,
      "outputs": []
    },
    {
      "cell_type": "code",
      "metadata": {
        "id": "4KuBmtryxMR_",
        "colab_type": "code",
        "colab": {},
        "outputId": "6ff501bf-6b55-47d2-baef-ecf3cf98bdaf"
      },
      "source": [
        "#DO NOT MODIFY THIS CELL\n",
        "word_count_dict = get_count(word_l)\n",
        "print(f\"There are {len(word_count_dict)} key values pairs\")\n",
        "print(f\"The count for the word 'thee' is {word_count_dict.get('thee',0)}\")"
      ],
      "execution_count": null,
      "outputs": [
        {
          "output_type": "stream",
          "text": [
            "There are 6116 key values pairs\n",
            "The count for the word 'thee' is 240\n"
          ],
          "name": "stdout"
        }
      ]
    },
    {
      "cell_type": "markdown",
      "metadata": {
        "id": "BxAweTMzxMSD",
        "colab_type": "text"
      },
      "source": [
        "\n",
        "#### Expected Output\n",
        "```Python\n",
        "There are 6116 key values pairs\n",
        "The count for the word 'thee' is 240\n",
        "```"
      ]
    },
    {
      "cell_type": "markdown",
      "metadata": {
        "id": "0Fpyts0vxMSD",
        "colab_type": "text"
      },
      "source": [
        "<a name='ex-3'></a>\n",
        "### Exercise 3\n",
        "Given the dictionary of word counts, compute the probability that each word will appear if randomly selected from the corpus of words.\n",
        "\n",
        "$$P(w_i) = \\frac{C(w_i)}{M} \\tag{Eqn-2}$$\n",
        "where \n",
        "\n",
        "$C(w_i)$ is the total number of times $w_i$ appears in the corpus.\n",
        "\n",
        "$M$ is the total number of words in the corpus.\n",
        "\n",
        "For example, the probability of the word 'am' in the sentence **'I am happy because I am learning'** is:\n",
        "\n",
        "$$P(am) = \\frac{C(w_i)}{M} = \\frac {2}{7} \\tag{Eqn-3}.$$\n",
        "\n",
        "**Instructions:** Implement `get_probs` function which gives you the probability \n",
        "that a word occurs in a sample. This returns a dictionary where the keys are words, and the value for each word is its probability in the corpus of words."
      ]
    },
    {
      "cell_type": "code",
      "metadata": {
        "id": "pP3wrFnyxMSE",
        "colab_type": "code",
        "colab": {}
      },
      "source": [
        "def get_probs(word_count_dict):\n",
        "    '''\n",
        "    Input:\n",
        "        word_count_dict: The wordcount dictionary where key is the word and value is its frequency.\n",
        "    Output:\n",
        "        probs: A dictionary where keys are the words and the values are the probability that a word will occur. \n",
        "    '''\n",
        "    probs = {}  # return this variable correctly\n",
        "    dict_len  = sum(word_count_dict.values())\n",
        "    for i in word_count_dict.keys():\n",
        "        probs[i]=word_count_dict[i]/dict_len\n",
        "    return probs"
      ],
      "execution_count": null,
      "outputs": []
    },
    {
      "cell_type": "code",
      "metadata": {
        "id": "K8sEQqHqxMSG",
        "colab_type": "code",
        "colab": {},
        "outputId": "ccf264d9-621e-4d1d-c050-27ca9e99f7c0"
      },
      "source": [
        "probs = get_probs(word_count_dict)\n",
        "print(f\"Length of probs is {len(probs)}\")\n",
        "print(f\"P('thee') is {probs['thee']:.4f}\")"
      ],
      "execution_count": null,
      "outputs": [
        {
          "output_type": "stream",
          "text": [
            "Length of probs is 6116\n",
            "P('thee') is 0.0045\n"
          ],
          "name": "stdout"
        }
      ]
    },
    {
      "cell_type": "markdown",
      "metadata": {
        "id": "Bu_kkhD9xMSI",
        "colab_type": "text"
      },
      "source": [
        "#### Expected Output\n",
        "\n",
        "```Python\n",
        "Length of probs is 6116\n",
        "P('thee') is 0.0045\n",
        "```"
      ]
    },
    {
      "cell_type": "markdown",
      "metadata": {
        "id": "ZRBUHGioxMSJ",
        "colab_type": "text"
      },
      "source": [
        "<a name='2'></a>\n",
        "# Part 2: String Manipulations\n",
        "\n",
        "Now, that you have computed $P(w_i)$ for all the words in the corpus, you will write a few functions to manipulate strings so that you can edit the erroneous strings and return the right spellings of the words. In this section, you will implement four functions: \n",
        "\n",
        "* `delete_letter`: given a word, it returns all the possible strings that have **one character removed**. \n",
        "* `switch_letter`: given a word, it returns all the possible strings that have **two adjacent letters switched**.\n",
        "* `replace_letter`: given a word, it returns all the possible strings that have **one character replaced by another different letter**.\n",
        "* `insert_letter`: given a word, it returns all the possible strings that have an **additional character inserted**. \n"
      ]
    },
    {
      "cell_type": "code",
      "metadata": {
        "id": "5ZMu5Gc_xMSJ",
        "colab_type": "code",
        "colab": {}
      },
      "source": [
        "def delete_letter(word, verbose=False):\n",
        "    '''\n",
        "    Input:\n",
        "        word: the string/word for which you will generate all possible words \n",
        "                in the vocabulary which have 1 missing character\n",
        "    Output:\n",
        "        delete_l: a list of all possible strings obtained by deleting 1 character from word\n",
        "    '''\n",
        "    \n",
        "    delete_l = []\n",
        "    split_l = []\n",
        "    split_l = [(word[:i],word[i:]) for i in range(len(word))]\n",
        "    delete_l = [word[0:i]+word[i+1:len(word)] for i in range(len(word))]\n",
        "\n",
        "    if verbose: print(f\"input word {word}, \\nsplit_l = {split_l}, \\ndelete_l = {delete_l}\")\n",
        "\n",
        "    return delete_l"
      ],
      "execution_count": null,
      "outputs": []
    },
    {
      "cell_type": "code",
      "metadata": {
        "id": "wLzapHfWxMSL",
        "colab_type": "code",
        "colab": {},
        "outputId": "83474e22-a3a9-4ce1-819d-97486edc46e9"
      },
      "source": [
        "delete_word_l = delete_letter(word=\"cans\",\n",
        "                        verbose=True)"
      ],
      "execution_count": null,
      "outputs": [
        {
          "output_type": "stream",
          "text": [
            "input word cans, \n",
            "split_l = [('', 'cans'), ('c', 'ans'), ('ca', 'ns'), ('can', 's')], \n",
            "delete_l = ['ans', 'cns', 'cas', 'can']\n"
          ],
          "name": "stdout"
        }
      ]
    },
    {
      "cell_type": "markdown",
      "metadata": {
        "id": "xVxxGcKgxMSO",
        "colab_type": "text"
      },
      "source": [
        "#### Expected Output\n",
        "```Python\n",
        "input word cans, \n",
        "split_l = [('', 'cans'), ('c', 'ans'), ('ca', 'ns'), ('can', 's')], \n",
        "delete_l = ['ans', 'cns', 'cas', 'can']\n",
        "```"
      ]
    },
    {
      "cell_type": "code",
      "metadata": {
        "id": "oQlcFEmgxMSO",
        "colab_type": "code",
        "colab": {},
        "outputId": "f2b3d087-f633-48f4-ccdf-f671bfdec66d"
      },
      "source": [
        "# test # 2\n",
        "print(f\"Number of outputs of delete_letter('at') is {len(delete_letter('at'))}\")"
      ],
      "execution_count": null,
      "outputs": [
        {
          "output_type": "stream",
          "text": [
            "Number of outputs of delete_letter('at') is 2\n"
          ],
          "name": "stdout"
        }
      ]
    },
    {
      "cell_type": "markdown",
      "metadata": {
        "id": "HIHQ54hlxMSR",
        "colab_type": "text"
      },
      "source": [
        "#### Expected output\n",
        "\n",
        "```CPP\n",
        "Number of outputs of delete_letter('at') is 2\n",
        "```"
      ]
    },
    {
      "cell_type": "markdown",
      "metadata": {
        "id": "n0PCj6v_xMSS",
        "colab_type": "text"
      },
      "source": [
        "<a name='ex-5'></a>\n",
        "### Exercise 5\n",
        "\n",
        "**Instructions for switch_letter()**: Now implement a function that switches two letters in a word. It takes in a word and returns a list of all the possible switches of two letters **that are adjacent to each other**. \n",
        "- For example, given the word 'eta', it returns {'eat', 'tea'}, but does not return 'ate'.\n",
        "\n",
        "**Step 1:** is the same as in delete_letter()  \n",
        "**Step 2:** A list comprehension or for loop which forms strings by swapping adjacent letters. This is of the form:  \n",
        "`[f(L,R) for L, R in splits if condition]`  where 'condition' will test the length of R in a given iteration. See below."
      ]
    },
    {
      "cell_type": "code",
      "metadata": {
        "id": "5y4LBibbxMST",
        "colab_type": "code",
        "colab": {}
      },
      "source": [
        "def switch_letter(word, verbose=False):\n",
        "    '''\n",
        "    Input:\n",
        "        word: input string\n",
        "     Output:\n",
        "        switches: a list of all possible strings with one adjacent charater switched\n",
        "    ''' \n",
        "    \n",
        "    switch_l = []\n",
        "    split_l = []\n",
        "    def swap(x,y):\n",
        "        temp = x\n",
        "        x = y\n",
        "        y = temp\n",
        "        return x,y\n",
        "    \n",
        "    split_l = [(word[:i],word[i:]) for i in range(len(word))]\n",
        "    \n",
        "    for i in range(len(word)-1):\n",
        "        temp = list(word)\n",
        "        x,y = swap(temp[i+1],temp[i])\n",
        "        temp[i+1]=x\n",
        "        temp[i]=y\n",
        "        temp= \"\".join(temp)\n",
        "        switch_l.append(temp)\n",
        "    \n",
        "    if verbose: print(f\"Input word = {word} \\nsplit_l = {split_l} \\nswitch_l = {switch_l}\") \n",
        "\n",
        "    return switch_l"
      ],
      "execution_count": null,
      "outputs": []
    },
    {
      "cell_type": "code",
      "metadata": {
        "id": "gIAapjj2xMSW",
        "colab_type": "code",
        "colab": {},
        "outputId": "0f79b840-807f-455a-c823-f333f13b860d"
      },
      "source": [
        "switch_word_l = switch_letter(word=\"eta\",\n",
        "                         verbose=True)"
      ],
      "execution_count": null,
      "outputs": [
        {
          "output_type": "stream",
          "text": [
            "Input word = eta \n",
            "split_l = [('', 'eta'), ('e', 'ta'), ('et', 'a')] \n",
            "switch_l = ['tea', 'eat']\n"
          ],
          "name": "stdout"
        }
      ]
    },
    {
      "cell_type": "markdown",
      "metadata": {
        "id": "YOlV4jQcxMSZ",
        "colab_type": "text"
      },
      "source": [
        "#### Expected output\n",
        "\n",
        "```Python\n",
        "Input word = eta \n",
        "split_l = [('', 'eta'), ('e', 'ta'), ('et', 'a')] \n",
        "switch_l = ['tea', 'eat']\n",
        "```"
      ]
    },
    {
      "cell_type": "code",
      "metadata": {
        "id": "fBJ9Dv1QxMSZ",
        "colab_type": "code",
        "colab": {},
        "outputId": "3e7cfdcb-4116-411b-a11d-31cf6d7a331a"
      },
      "source": [
        "# test # 2\n",
        "print(f\"Number of outputs of switch_letter('at') is {len(switch_letter('at'))}\")"
      ],
      "execution_count": null,
      "outputs": [
        {
          "output_type": "stream",
          "text": [
            "Number of outputs of switch_letter('at') is 1\n"
          ],
          "name": "stdout"
        }
      ]
    },
    {
      "cell_type": "markdown",
      "metadata": {
        "id": "V7kkYaTTxMSc",
        "colab_type": "text"
      },
      "source": [
        "#### Expected output\n",
        "\n",
        "```CPP\n",
        "Number of outputs of switch_letter('at') is 1\n",
        "```"
      ]
    },
    {
      "cell_type": "markdown",
      "metadata": {
        "id": "AMDqliyUxMSc",
        "colab_type": "text"
      },
      "source": [
        "<a name='ex-6'></a>\n",
        "### Exercise 6\n",
        "**Instructions for replace_letter()**: Now implement a function that takes in a word and returns a list of strings with one **replaced letter** from the original word. \n",
        "\n",
        "**Step 1:** is the same as in `delete_letter()`\n",
        "\n",
        "**Step 2:** A list comprehension or for loop which form strings by replacing letters.  This can be of the form:  \n",
        "`[f(a,b,c) for a, b in splits if condition for c in string]`   Note the use of the second for loop.  \n",
        "It is expected in this routine that one or more of the replacements will include the original word. For example, replacing the first letter of 'ear' with 'e' will return 'ear'.\n",
        "\n",
        "**Step 3:** Remove the original input letter from the output."
      ]
    },
    {
      "cell_type": "code",
      "metadata": {
        "id": "8zFUy1PtxMSc",
        "colab_type": "code",
        "colab": {}
      },
      "source": [
        "def replace_letter(word, verbose=False):\n",
        "    '''\n",
        "    Input:\n",
        "        word: the input string/word \n",
        "    Output:\n",
        "        replaces: a list of all possible strings where we replaced one letter from the original word. \n",
        "    ''' \n",
        "    \n",
        "    letters = 'abcdefghijklmnopqrstuvwxyz'\n",
        "    replace_l = []\n",
        "    split_l = []\n",
        "    \n",
        "    ### START CODE HERE ###    \n",
        "    delete = delete_letter(word)\n",
        "    replace_l = [x[:i]+j+x[i:] for j in letters for (i,x) in enumerate(delete) if word[i]!=j]\n",
        "  \n",
        "    replace_set=set(replace_l)\n",
        "\n",
        "    replace_l = sorted(list(replace_set))\n",
        "    \n",
        "    if verbose: print(f\"Input word = {word} \\nsplit_l = {split_l} \\nreplace_l {replace_l}\")   \n",
        "    \n",
        "    return replace_l"
      ],
      "execution_count": null,
      "outputs": []
    },
    {
      "cell_type": "code",
      "metadata": {
        "id": "9iUHf1MAxMSg",
        "colab_type": "code",
        "colab": {},
        "outputId": "a5b9c9b2-1887-46d7-bce3-d83ae00dc04c"
      },
      "source": [
        "replace_l = replace_letter(word='can',\n",
        "                              verbose=True)"
      ],
      "execution_count": null,
      "outputs": [
        {
          "output_type": "stream",
          "text": [
            "Input word = can \n",
            "split_l = [] \n",
            "replace_l ['aan', 'ban', 'caa', 'cab', 'cac', 'cad', 'cae', 'caf', 'cag', 'cah', 'cai', 'caj', 'cak', 'cal', 'cam', 'cao', 'cap', 'caq', 'car', 'cas', 'cat', 'cau', 'cav', 'caw', 'cax', 'cay', 'caz', 'cbn', 'ccn', 'cdn', 'cen', 'cfn', 'cgn', 'chn', 'cin', 'cjn', 'ckn', 'cln', 'cmn', 'cnn', 'con', 'cpn', 'cqn', 'crn', 'csn', 'ctn', 'cun', 'cvn', 'cwn', 'cxn', 'cyn', 'czn', 'dan', 'ean', 'fan', 'gan', 'han', 'ian', 'jan', 'kan', 'lan', 'man', 'nan', 'oan', 'pan', 'qan', 'ran', 'san', 'tan', 'uan', 'van', 'wan', 'xan', 'yan', 'zan']\n"
          ],
          "name": "stdout"
        }
      ]
    },
    {
      "cell_type": "markdown",
      "metadata": {
        "id": "3xtXlp0UxMSi",
        "colab_type": "text"
      },
      "source": [
        "#### Expected Output**: \n",
        "```Python\n",
        "Input word = can \n",
        "split_l = [('', 'can'), ('c', 'an'), ('ca', 'n')] \n",
        "replace_l ['aan', 'ban', 'caa', 'cab', 'cac', 'cad', 'cae', 'caf', 'cag', 'cah', 'cai', 'caj', 'cak', 'cal', 'cam', 'cao', 'cap', 'caq', 'car', 'cas', 'cat', 'cau', 'cav', 'caw', 'cax', 'cay', 'caz', 'cbn', 'ccn', 'cdn', 'cen', 'cfn', 'cgn', 'chn', 'cin', 'cjn', 'ckn', 'cln', 'cmn', 'cnn', 'con', 'cpn', 'cqn', 'crn', 'csn', 'ctn', 'cun', 'cvn', 'cwn', 'cxn', 'cyn', 'czn', 'dan', 'ean', 'fan', 'gan', 'han', 'ian', 'jan', 'kan', 'lan', 'man', 'nan', 'oan', 'pan', 'qan', 'ran', 'san', 'tan', 'uan', 'van', 'wan', 'xan', 'yan', 'zan']\n",
        "```\n",
        "- Note how the input word 'can' should not be one of the output words."
      ]
    },
    {
      "cell_type": "code",
      "metadata": {
        "id": "kc9iyomSxMSj",
        "colab_type": "code",
        "colab": {},
        "outputId": "10674a02-1178-45fe-f13c-215931f768ed"
      },
      "source": [
        "# test # 2\n",
        "print(f\"Number of outputs of switch_letter('at') is {len(switch_letter('at'))}\")"
      ],
      "execution_count": null,
      "outputs": [
        {
          "output_type": "stream",
          "text": [
            "Number of outputs of switch_letter('at') is 1\n"
          ],
          "name": "stdout"
        }
      ]
    },
    {
      "cell_type": "markdown",
      "metadata": {
        "id": "5oSl6isexMSl",
        "colab_type": "text"
      },
      "source": [
        "#### Expected output\n",
        "```CPP\n",
        "Number of outputs of switch_letter('at') is 1\n",
        "```"
      ]
    },
    {
      "cell_type": "markdown",
      "metadata": {
        "id": "ExWKd2wTxMSm",
        "colab_type": "text"
      },
      "source": [
        "<a name='ex-7'></a>\n",
        "### Exercise 7\n",
        "\n",
        "**Instructions for insert_letter()**: Now implement a function that takes in a word and returns a list with a letter inserted at every offset.\n",
        "\n",
        "**Step 1:** is the same as in `delete_letter()`\n",
        "\n",
        "**Step 2:** This can be a list comprehension of the form:  \n",
        "`[f(a,b,c) for a, b in splits if condition for c in string]`   "
      ]
    },
    {
      "cell_type": "code",
      "metadata": {
        "id": "sElm89ORxMSm",
        "colab_type": "code",
        "colab": {}
      },
      "source": [
        "def insert_letter(word, verbose=False):\n",
        "    '''\n",
        "    Input:\n",
        "        word: the input string/word \n",
        "    Output:\n",
        "        inserts: a set of all possible strings with one new letter inserted at every offset\n",
        "    ''' \n",
        "    letters = 'abcdefghijklmnopqrstuvwxyz'\n",
        "    insert_l = []\n",
        "    split_l = []\n",
        "    \n",
        "    split_l = [(word[:i],word[i:]) for i in range(len(word))]\n",
        "    \n",
        "    insert_l =[word[:i]+j+word[i:] for j in letters for i in range(len(word)+1)]\n",
        "\n",
        "    if verbose: print(f\"Input word {word} \\nsplit_l = {split_l} \\ninsert_l = {insert_l}\")\n",
        "    \n",
        "    return insert_l"
      ],
      "execution_count": null,
      "outputs": []
    },
    {
      "cell_type": "code",
      "metadata": {
        "id": "ywzT5tEBxMSp",
        "colab_type": "code",
        "colab": {},
        "outputId": "41d97c84-6e23-41d6-a06b-30b766bfbd44"
      },
      "source": [
        "insert_l = insert_letter('at', True)\n",
        "print(f\"Number of strings output by insert_letter('at') is {len(insert_l)}\")"
      ],
      "execution_count": null,
      "outputs": [
        {
          "output_type": "stream",
          "text": [
            "Input word at \n",
            "split_l = [('', 'at'), ('a', 't')] \n",
            "insert_l = ['aat', 'aat', 'ata', 'bat', 'abt', 'atb', 'cat', 'act', 'atc', 'dat', 'adt', 'atd', 'eat', 'aet', 'ate', 'fat', 'aft', 'atf', 'gat', 'agt', 'atg', 'hat', 'aht', 'ath', 'iat', 'ait', 'ati', 'jat', 'ajt', 'atj', 'kat', 'akt', 'atk', 'lat', 'alt', 'atl', 'mat', 'amt', 'atm', 'nat', 'ant', 'atn', 'oat', 'aot', 'ato', 'pat', 'apt', 'atp', 'qat', 'aqt', 'atq', 'rat', 'art', 'atr', 'sat', 'ast', 'ats', 'tat', 'att', 'att', 'uat', 'aut', 'atu', 'vat', 'avt', 'atv', 'wat', 'awt', 'atw', 'xat', 'axt', 'atx', 'yat', 'ayt', 'aty', 'zat', 'azt', 'atz']\n",
            "Number of strings output by insert_letter('at') is 78\n"
          ],
          "name": "stdout"
        }
      ]
    },
    {
      "cell_type": "markdown",
      "metadata": {
        "id": "0OVHrslIxMSq",
        "colab_type": "text"
      },
      "source": [
        "#### Expected output\n",
        "\n",
        "```Python\n",
        "Input word at \n",
        "split_l = [('', 'at'), ('a', 't'), ('at', '')] \n",
        "insert_l = ['aat', 'bat', 'cat', 'dat', 'eat', 'fat', 'gat', 'hat', 'iat', 'jat', 'kat', 'lat', 'mat', 'nat', 'oat', 'pat', 'qat', 'rat', 'sat', 'tat', 'uat', 'vat', 'wat', 'xat', 'yat', 'zat', 'aat', 'abt', 'act', 'adt', 'aet', 'aft', 'agt', 'aht', 'ait', 'ajt', 'akt', 'alt', 'amt', 'ant', 'aot', 'apt', 'aqt', 'art', 'ast', 'att', 'aut', 'avt', 'awt', 'axt', 'ayt', 'azt', 'ata', 'atb', 'atc', 'atd', 'ate', 'atf', 'atg', 'ath', 'ati', 'atj', 'atk', 'atl', 'atm', 'atn', 'ato', 'atp', 'atq', 'atr', 'ats', 'att', 'atu', 'atv', 'atw', 'atx', 'aty', 'atz']\n",
        "Number of strings output by insert_letter('at') is 78\n",
        "```"
      ]
    },
    {
      "cell_type": "code",
      "metadata": {
        "id": "qN5e18lgxMSr",
        "colab_type": "code",
        "colab": {},
        "outputId": "efcd0cdc-7dfe-4e50-83f7-9def3aea59fe"
      },
      "source": [
        "# test # 2\n",
        "print(f\"Number of outputs of insert_letter('at') is {len(insert_letter('at'))}\")"
      ],
      "execution_count": null,
      "outputs": [
        {
          "output_type": "stream",
          "text": [
            "Number of outputs of insert_letter('at') is 78\n"
          ],
          "name": "stdout"
        }
      ]
    },
    {
      "cell_type": "markdown",
      "metadata": {
        "id": "It7h13uOxMSt",
        "colab_type": "text"
      },
      "source": [
        "#### Expected output\n",
        "\n",
        "```CPP\n",
        "Number of outputs of insert_letter('at') is 78\n",
        "```"
      ]
    },
    {
      "cell_type": "markdown",
      "metadata": {
        "id": "2pl7fvl7xMSt",
        "colab_type": "text"
      },
      "source": [
        "<a name='3'></a>\n",
        "\n",
        "# Part 3: Combining the edits\n",
        "\n",
        "Now that you have implemented the string manipulations, you will create two functions that, given a string, will return all the possible single and double edits on that string. These will be `edit_one_letter()` and `edit_two_letters()`."
      ]
    },
    {
      "cell_type": "markdown",
      "metadata": {
        "id": "pL99RU_WxMSt",
        "colab_type": "text"
      },
      "source": [
        "<a name='3-1'></a>\n",
        "## 3.1 Edit one letter\n",
        "\n",
        "<a name='ex-8'></a>\n",
        "### Exercise 8\n",
        "\n",
        "**Instructions**: Implement the `edit_one_letter` function to get all the possible edits that are one edit away from a word. The edits  consist of the replace, insert, delete, and optionally the switch operation. You should use the previous functions you have already implemented to complete this function. The 'switch' function  is a less common edit function, so its use will be selected by an \"allow_switches\" input argument.\n",
        "\n",
        "Note that those functions return *lists* while this function should return a *python set*. Utilizing a set eliminates any duplicate entries."
      ]
    },
    {
      "cell_type": "code",
      "metadata": {
        "id": "HSqLsinhxMSu",
        "colab_type": "code",
        "colab": {}
      },
      "source": [
        "def edit_one_letter(word, allow_switches = True):\n",
        "    \"\"\"\n",
        "    Input:\n",
        "        word: the string/word for which we will generate all possible wordsthat are one edit away.\n",
        "    Output:\n",
        "        edit_one_set: a set of words with one possible edit. Please return a set. and not a list.\n",
        "    \"\"\"\n",
        "    \n",
        "    edit_one_set = set()\n",
        "    \n",
        "    edit_one_set=set(delete_letter(word) + insert_letter(word)+replace_letter(word))\n",
        "    if allow_switches:\n",
        "        for i in switch_letter(word):\n",
        "            edit_one_set.add(i)\n",
        "\n",
        "    return edit_one_set"
      ],
      "execution_count": null,
      "outputs": []
    },
    {
      "cell_type": "code",
      "metadata": {
        "id": "M36CRIrDxMSy",
        "colab_type": "code",
        "colab": {},
        "outputId": "89b6c328-852c-47a2-ceea-b393a723cfc5"
      },
      "source": [
        "tmp_word = \"at\"\n",
        "tmp_edit_one_set = edit_one_letter(tmp_word)\n",
        "# turn this into a list to sort it, in order to view it\n",
        "tmp_edit_one_l = sorted(list(tmp_edit_one_set))\n",
        "\n",
        "print(f\"input word {tmp_word} \\nedit_one_l \\n{tmp_edit_one_l}\\n\")\n",
        "print(f\"The type of the returned object should be a set {type(tmp_edit_one_set)}\")\n",
        "print(f\"Number of outputs from edit_one_letter('at') is {len(edit_one_letter('at'))}\")"
      ],
      "execution_count": null,
      "outputs": [
        {
          "output_type": "stream",
          "text": [
            "input word at \n",
            "edit_one_l \n",
            "['a', 'aa', 'aat', 'ab', 'abt', 'ac', 'act', 'ad', 'adt', 'ae', 'aet', 'af', 'aft', 'ag', 'agt', 'ah', 'aht', 'ai', 'ait', 'aj', 'ajt', 'ak', 'akt', 'al', 'alt', 'am', 'amt', 'an', 'ant', 'ao', 'aot', 'ap', 'apt', 'aq', 'aqt', 'ar', 'art', 'as', 'ast', 'ata', 'atb', 'atc', 'atd', 'ate', 'atf', 'atg', 'ath', 'ati', 'atj', 'atk', 'atl', 'atm', 'atn', 'ato', 'atp', 'atq', 'atr', 'ats', 'att', 'atu', 'atv', 'atw', 'atx', 'aty', 'atz', 'au', 'aut', 'av', 'avt', 'aw', 'awt', 'ax', 'axt', 'ay', 'ayt', 'az', 'azt', 'bat', 'bt', 'cat', 'ct', 'dat', 'dt', 'eat', 'et', 'fat', 'ft', 'gat', 'gt', 'hat', 'ht', 'iat', 'it', 'jat', 'jt', 'kat', 'kt', 'lat', 'lt', 'mat', 'mt', 'nat', 'nt', 'oat', 'ot', 'pat', 'pt', 'qat', 'qt', 'rat', 'rt', 'sat', 'st', 't', 'ta', 'tat', 'tt', 'uat', 'ut', 'vat', 'vt', 'wat', 'wt', 'xat', 'xt', 'yat', 'yt', 'zat', 'zt']\n",
            "\n",
            "The type of the returned object should be a set <class 'set'>\n",
            "Number of outputs from edit_one_letter('at') is 129\n"
          ],
          "name": "stdout"
        }
      ]
    },
    {
      "cell_type": "markdown",
      "metadata": {
        "id": "yIuWa9CIxMS2",
        "colab_type": "text"
      },
      "source": [
        "#### Expected Output\n",
        "```CPP\n",
        "input word at \n",
        "edit_one_l \n",
        "['a', 'aa', 'aat', 'ab', 'abt', 'ac', 'act', 'ad', 'adt', 'ae', 'aet', 'af', 'aft', 'ag', 'agt', 'ah', 'aht', 'ai', 'ait', 'aj', 'ajt', 'ak', 'akt', 'al', 'alt', 'am', 'amt', 'an', 'ant', 'ao', 'aot', 'ap', 'apt', 'aq', 'aqt', 'ar', 'art', 'as', 'ast', 'ata', 'atb', 'atc', 'atd', 'ate', 'atf', 'atg', 'ath', 'ati', 'atj', 'atk', 'atl', 'atm', 'atn', 'ato', 'atp', 'atq', 'atr', 'ats', 'att', 'atu', 'atv', 'atw', 'atx', 'aty', 'atz', 'au', 'aut', 'av', 'avt', 'aw', 'awt', 'ax', 'axt', 'ay', 'ayt', 'az', 'azt', 'bat', 'bt', 'cat', 'ct', 'dat', 'dt', 'eat', 'et', 'fat', 'ft', 'gat', 'gt', 'hat', 'ht', 'iat', 'it', 'jat', 'jt', 'kat', 'kt', 'lat', 'lt', 'mat', 'mt', 'nat', 'nt', 'oat', 'ot', 'pat', 'pt', 'qat', 'qt', 'rat', 'rt', 'sat', 'st', 't', 'ta', 'tat', 'tt', 'uat', 'ut', 'vat', 'vt', 'wat', 'wt', 'xat', 'xt', 'yat', 'yt', 'zat', 'zt']\n",
        "\n",
        "The type of the returned object should be a set <class 'set'>\n",
        "Number of outputs from edit_one_letter('at') is 129\n",
        "```"
      ]
    },
    {
      "cell_type": "markdown",
      "metadata": {
        "id": "NZXGWHRZxMS2",
        "colab_type": "text"
      },
      "source": [
        "<a name='3-2'></a>\n",
        "## Part 3.2 Edit two letters\n",
        "\n",
        "<a name='ex-9'></a>\n",
        "### Exercise 9\n",
        "\n",
        "Now you can generalize this to implement to get two edits on a word. To do so, you would have to get all the possible edits on a single word and then for each modified word, you would have to modify it again. \n",
        "\n",
        "**Instructions**: Implement the `edit_two_letters` function that returns a set of words that are two edits away. Note that creating additional edits based on the `edit_one_letter` function may 'restore' some one_edits to zero or one edits. That is allowed here. This accounted for in get_corrections."
      ]
    },
    {
      "cell_type": "code",
      "metadata": {
        "id": "4n1Mx2DSxMS3",
        "colab_type": "code",
        "colab": {}
      },
      "source": [
        "def edit_two_letters(word, allow_switches = True):\n",
        "    '''\n",
        "    Input:\n",
        "        word: the input string/word \n",
        "    Output:\n",
        "        edit_two_set: a set of strings with all possible two edits\n",
        "    '''\n",
        "    \n",
        "    edit_two_set = set()\n",
        "    \n",
        "    one_edit = edit_one_letter(word)\n",
        "    \n",
        "    for i in one_edit:\n",
        "        for j in edit_one_letter(i):\n",
        "            edit_two_set.add(j)\n",
        "            \n",
        "    edit_two_set.union(one_edit)\n",
        "    \n",
        "    return edit_two_set"
      ],
      "execution_count": null,
      "outputs": []
    },
    {
      "cell_type": "code",
      "metadata": {
        "id": "1Z1bkz-7xMS5",
        "colab_type": "code",
        "colab": {},
        "outputId": "792b55ac-6c6b-4018-d9de-cf304498f1b6"
      },
      "source": [
        "tmp_edit_two_set = edit_two_letters(\"a\")\n",
        "tmp_edit_two_l = sorted(list(tmp_edit_two_set))\n",
        "print(f\"Number of strings with edit distance of two: {len(tmp_edit_two_l)}\")\n",
        "print(f\"First 10 strings {tmp_edit_two_l[:10]}\")\n",
        "print(f\"Last 10 strings {tmp_edit_two_l[-10:]}\")\n",
        "print(f\"The data type of the returned object should be a set {type(tmp_edit_two_set)}\")\n",
        "print(f\"Number of strings that are 2 edit distances from 'at' is {len(edit_two_letters('at'))}\")"
      ],
      "execution_count": null,
      "outputs": [
        {
          "output_type": "stream",
          "text": [
            "Number of strings with edit distance of two: 2654\n",
            "First 10 strings ['', 'a', 'aa', 'aaa', 'aab', 'aac', 'aad', 'aae', 'aaf', 'aag']\n",
            "Last 10 strings ['zv', 'zva', 'zw', 'zwa', 'zx', 'zxa', 'zy', 'zya', 'zz', 'zza']\n",
            "The data type of the returned object should be a set <class 'set'>\n",
            "Number of strings that are 2 edit distances from 'at' is 7154\n"
          ],
          "name": "stdout"
        }
      ]
    },
    {
      "cell_type": "markdown",
      "metadata": {
        "id": "y8kh26mexMS6",
        "colab_type": "text"
      },
      "source": [
        "#### Expected Output\n",
        "\n",
        "```CPP\n",
        "Number of strings with edit distance of two: 2654\n",
        "First 10 strings ['', 'a', 'aa', 'aaa', 'aab', 'aac', 'aad', 'aae', 'aaf', 'aag']\n",
        "Last 10 strings ['zv', 'zva', 'zw', 'zwa', 'zx', 'zxa', 'zy', 'zya', 'zz', 'zza']\n",
        "The data type of the returned object should be a set <class 'set'>\n",
        "Number of strings that are 2 edit distances from 'at' is 7154\n",
        "```"
      ]
    },
    {
      "cell_type": "markdown",
      "metadata": {
        "id": "0qYQSTPqxMS7",
        "colab_type": "text"
      },
      "source": [
        "<a name='3-3'></a>\n",
        "## Part 3-3: suggest spelling suggestions\n",
        "\n",
        "Now you will use your `edit_two_letters` function to get a set of all the possible 2 edits on your word. You will then use those strings to get the most probable word you meant to type aka your typing suggestion.\n",
        "\n",
        "<a name='ex-10'></a>\n",
        "### Exercise 10\n",
        "**Instructions**: Implement `get_corrections`, which returns a list of zero to n possible suggestion tuples of the form (word, probability_of_word). \n",
        "\n",
        "**Step 1:** Generate suggestions for a supplied word: You'll use the edit functions you have developed. The 'suggestion algorithm' should follow this logic: \n",
        "* If the word is in the vocabulary, suggest the word. \n",
        "* Otherwise, if there are suggestions from `edit_one_letter` that are in the vocabulary, use those. \n",
        "* Otherwise, if there are suggestions from `edit_two_letters` that are in the vocabulary, use those. \n",
        "* Otherwise, suggest the input word.*  \n",
        "* The idea is that words generated from fewer edits are more likely than words with more edits.\n",
        "\n",
        "\n",
        "Note: \n",
        "- Edits of one or two letters may 'restore' strings to either zero or one edit. This algorithm accounts for this by preferentially selecting lower distance edits first."
      ]
    },
    {
      "cell_type": "code",
      "metadata": {
        "id": "cOSlDiEcxMS7",
        "colab_type": "code",
        "colab": {}
      },
      "source": [
        "def get_corrections(word, probs, vocab, n=2, verbose = False):\n",
        "    '''\n",
        "    Input: \n",
        "        word: a user entered string to check for suggestions\n",
        "        probs: a dictionary that maps each word to its probability in the corpus\n",
        "        vocab: a set containing all the vocabulary\n",
        "        n: number of possible word corrections you want returned in the dictionary\n",
        "    Output: \n",
        "        n_best: a list of tuples with the most probable n corrected words and their probabilities.\n",
        "    '''\n",
        "    \n",
        "    suggestions = []\n",
        "    n_best = []\n",
        "    \n",
        "    if word in vocab:\n",
        "        suggestions.append(word)\n",
        "    \n",
        "    one = edit_one_letter(word)\n",
        "    two = edit_two_letters(word)\n",
        "    two = two.intersection(one)\n",
        "    \n",
        "    for i in two:\n",
        "        if i in vocab:\n",
        "            suggestions.append(i)\n",
        "    \n",
        "    best_words ={}\n",
        "    best_words ={i:probs[i] for i in suggestions}\n",
        "    \n",
        "    \n",
        "    n_best = Counter(best_words).most_common(n)\n",
        "    \n",
        "    if verbose: print(\"suggestions = \", suggestions)\n",
        "\n",
        "    return n_best"
      ],
      "execution_count": null,
      "outputs": []
    },
    {
      "cell_type": "code",
      "metadata": {
        "id": "4iQWtUrvxMS9",
        "colab_type": "code",
        "colab": {},
        "outputId": "afde9aa3-11b5-46d9-9af0-94530dfaa12a"
      },
      "source": [
        "# Test your implementation - feel free to try other words in my word\n",
        "my_word = 'dys' \n",
        "tmp_corrections = get_corrections(my_word, probs, vocab, 2, verbose=True)\n",
        "for i, word_prob in enumerate(tmp_corrections):\n",
        "    print(f\"word {i}: {word_prob[0]}, probability {word_prob[1]:.6f}\")\n",
        "\n",
        "# CODE REVIEW COMMENT: using \"tmp_corrections\" insteads of \"cors\". \"cors\" is not defined\n",
        "print(f\"data type of corrections {type(tmp_corrections)}\")"
      ],
      "execution_count": null,
      "outputs": [
        {
          "output_type": "stream",
          "text": [
            "suggestions =  ['dye', 'days']\n",
            "word 0: days, probability 0.000410\n",
            "word 1: dye, probability 0.000019\n",
            "data type of corrections <class 'list'>\n"
          ],
          "name": "stdout"
        }
      ]
    },
    {
      "cell_type": "markdown",
      "metadata": {
        "id": "wxSHE9QAxMTA",
        "colab_type": "text"
      },
      "source": [
        "#### Expected Output\n",
        "```CPP\n",
        "word 0: days, probability 0.000410\n",
        "word 1: dye, probability 0.000019\n",
        "data type of corrections <class 'list'>\n",
        "```"
      ]
    },
    {
      "cell_type": "markdown",
      "metadata": {
        "id": "gwp88cjbxMTA",
        "colab_type": "text"
      },
      "source": [
        "<a name='4'></a>\n",
        "# Part 4: Minimum Edit distance\n",
        "\n",
        "Now that you have implemented your auto-correct, how do you evaluate the similarity between two strings? For example: 'waht' and 'what'\n",
        "\n",
        "Also how do you efficiently find the shortest path to go from the word, 'waht' to the word 'what'?\n",
        "\n",
        "You will implement a dynamic programming system that will tell you the minimum number of edits required to convert a string into another string."
      ]
    },
    {
      "cell_type": "markdown",
      "metadata": {
        "id": "tXO-R-UhxMTB",
        "colab_type": "text"
      },
      "source": [
        "<a name='4-1'></a>\n",
        "### Part 4.1 Dynamic Programming\n",
        "\n",
        "Dynamic Programming breaks a problem down into subproblems which can be combined to form the final solution. Here, given a string source[0..i] and a string target[0..j], we will compute all the combinations of substrings[i, j] and calculate their edit distance. To do this efficiently, we will use a table to maintain the previously computed substrings and use those to calculate larger substrings.\n",
        "\n",
        "You have to create a matrix and update each element in the matrix as follows:  "
      ]
    },
    {
      "cell_type": "markdown",
      "metadata": {
        "id": "ThQ-LPmlxMTB",
        "colab_type": "text"
      },
      "source": [
        "The diagram below describes how to initialize the table. Each entry in D[i,j] represents the minimum cost of converting string source[0:i] to string target[0:j]. The first column is initialized to represent the cumulative cost of deleting the source characters to convert string \"EER\" to \"\". The first row is initialized to represent the cumulative cost of inserting the target characters to convert from \"\" to \"NEAR\"."
      ]
    },
    {
      "cell_type": "markdown",
      "metadata": {
        "id": "NB66tbTWxMTB",
        "colab_type": "text"
      },
      "source": [
        "<div style=\"width:image width px; font-size:100%; text-align:center;\"><img src='https://github.com/Coder1221/Auto_correct/blob/master/EditDistInit4.PNG?raw=1' alt=\"alternate text\" width=\"width\" height=\"height\" style=\"width:1000px;height:400px;\"/> Figure 6 Initializing Distance Matrix</div>     "
      ]
    },
    {
      "cell_type": "markdown",
      "metadata": {
        "id": "F7HmFJXkxMTC",
        "colab_type": "text"
      },
      "source": [
        "<div style=\"width:image width px; font-size:100%; text-align:center;\"><img src='https://github.com/Coder1221/Auto_correct/blob/master/EditDistFill2.PNG?raw=1' alt=\"alternate text\" width=\"width\" height=\"height\" style=\"width:800px;height:400px;\"/> Figure 7 Filling Distance Matrix</div>     "
      ]
    },
    {
      "cell_type": "markdown",
      "metadata": {
        "id": "nBb-nxk3xMTC",
        "colab_type": "text"
      },
      "source": [
        "Note that the formula for $D[i,j]$ shown in the image is equivalent to:\n",
        "\n",
        "\\begin{align}\n",
        " \\\\\n",
        "D[i,j] =min\n",
        "\\begin{cases}\n",
        "D[i-1,j] + del\\_cost\\\\\n",
        "D[i,j-1] + ins\\_cost\\\\\n",
        "D[i-1,j-1] + \\left\\{\\begin{matrix}\n",
        "rep\\_cost; & if src[i]\\neq tar[j]\\\\\n",
        "0 ; & if src[i]=tar[j]\n",
        "\\end{matrix}\\right.\n",
        "\\end{cases}\n",
        "\\tag{5}\n",
        "\\end{align}\n",
        "\n",
        "The variable `sub_cost` (for substitution cost) is the same as `rep_cost`; replacement cost.  We will stick with the term \"replace\" whenever possible."
      ]
    },
    {
      "cell_type": "markdown",
      "metadata": {
        "id": "W7V_jEiKxMTD",
        "colab_type": "text"
      },
      "source": [
        "Below are some examples of cells where replacement is used. This also shows the minimum path from the lower right final position where \"EER\" has been replaced by \"NEAR\" back to the start. This provides a starting point for the optional 'backtrace' algorithm below."
      ]
    },
    {
      "cell_type": "markdown",
      "metadata": {
        "id": "1ye4zQx1xMTD",
        "colab_type": "text"
      },
      "source": [
        "<div style=\"width:image width px; font-size:100%; text-align:center;\"><img src='https://github.com/Coder1221/Auto_correct/blob/master/EditDistExample1.PNG?raw=1' alt=\"alternate text\" width=\"width\" height=\"height\" style=\"width:1200px;height:400px;\"/> Figure 8 Examples Distance Matrix</div>    "
      ]
    },
    {
      "cell_type": "code",
      "metadata": {
        "id": "ol8HRhpXxMTE",
        "colab_type": "code",
        "colab": {}
      },
      "source": [
        "def min_edit_distance(source, target, ins_cost = 1, del_cost = 1, rep_cost = 2):\n",
        "    '''\n",
        "    Input: \n",
        "        source: a string corresponding to the string you are starting with\n",
        "        target: a string corresponding to the string you want to end with\n",
        "        ins_cost: an integer setting the insert cost\n",
        "        del_cost: an integer setting the delete cost\n",
        "        rep_cost: an integer setting the replace cost\n",
        "    Output:\n",
        "        D: a matrix of len(source)+1 by len(target)+1 containing minimum edit distances\n",
        "        med: the minimum edit distance (med) required to convert the source string to the target\n",
        "    '''\n",
        "    # use deletion and insert cost as  1\n",
        "    m = len(source) \n",
        "    n = len(target) \n",
        "    #initialize cost matrix with zeros and dimensions (m+1,n+1) \n",
        "    D = np.zeros((m+1, n+1), dtype=int) \n",
        "    \n",
        "    ### START CODE HERE (Replace instances of 'None' with your code) ###\n",
        "    \n",
        "    # Fill in column 0, from row 1 to row m\n",
        "    for row in range(1,m+1): # Replace None with the proper range\n",
        "        D[row,0] = D[row-1,0] +del_cost\n",
        "        \n",
        "    # Fill in row 0, for all columns from 1 to n\n",
        "    for col in range(1,n+1): # Replace None with the proper range\n",
        "        D[0,col] =D[0,col-1] + ins_cost \n",
        "    # Loop through row 1 to row m\n",
        "    for row in range(1,m+1): \n",
        "        \n",
        "        # Loop through column 1 to column n\n",
        "        for col in range(1,n+1):\n",
        "            \n",
        "            # Intialize r_cost to the 'replace' cost that is passed into this function\n",
        "            r_cost = rep_cost\n",
        "            \n",
        "            # Check to see if source character at the previous row\n",
        "            \n",
        "            # matches the target character at the previous column, \n",
        "            if source[row-1]==target[col-1]:\n",
        "                # Update the replacement cost to 0 if source and target are the same\n",
        "                r_cost = 0\n",
        "                \n",
        "            # Update the cost at row, col based on previous entries in the cost matrix\n",
        "            \n",
        "            # Refer to the equation calculate for D[i,j] (the minimum of three calculated costs)\n",
        "            D[row,col] = min([D[row-1,col]+del_cost, D[row,col-1]+ins_cost, D[row-1,col-1]+r_cost])\n",
        "\n",
        "          \n",
        "    # Set the minimum edit distance with the cost found at row m, column n\n",
        "    med = D[m,n]\n",
        "\n",
        "    ### END CODE HERE ###\n",
        "    return D, med"
      ],
      "execution_count": null,
      "outputs": []
    },
    {
      "cell_type": "code",
      "metadata": {
        "id": "g9YOUIm1xMTG",
        "colab_type": "code",
        "colab": {},
        "outputId": "a202ae2a-b43f-42b7-93ec-b9b22fabedfd"
      },
      "source": [
        "#DO NOT MODIFY THIS CELL\n",
        "# testing your implementation \n",
        "source =  'play'\n",
        "target = 'stay'\n",
        "matrix, min_edits = min_edit_distance(source, target)\n",
        "print(\"minimum edits: \",min_edits, \"\\n\")\n",
        "idx = list('#' + source)\n",
        "cols = list('#' + target)\n",
        "df = pd.DataFrame(matrix, index=idx, columns= cols)\n",
        "print(df)"
      ],
      "execution_count": null,
      "outputs": [
        {
          "output_type": "stream",
          "text": [
            "minimum edits:  4 \n",
            "\n",
            "   #  s  t  a  y\n",
            "#  0  1  2  3  4\n",
            "p  1  2  3  4  5\n",
            "l  2  3  4  5  6\n",
            "a  3  4  5  4  5\n",
            "y  4  5  6  5  4\n"
          ],
          "name": "stdout"
        }
      ]
    },
    {
      "cell_type": "markdown",
      "metadata": {
        "id": "2F4O3Fh8xMTJ",
        "colab_type": "text"
      },
      "source": [
        "**Expected Results:**  \n",
        "\n",
        "```CPP\n",
        "   #  s  t  a  y\n",
        "#  0  1  2  3  4\n",
        "p  1  2  3  4  5\n",
        "l  2  3  4  5  6\n",
        "a  3  4  5  4  5\n",
        "y  4  5  6  5  4\n",
        "```"
      ]
    },
    {
      "cell_type": "code",
      "metadata": {
        "id": "sEIyA1B8xMTJ",
        "colab_type": "code",
        "colab": {},
        "outputId": "709ab894-846e-4f45-d1b0-faa85540857c"
      },
      "source": [
        "#DO NOT MODIFY THIS CELL\n",
        "# testing your implementation \n",
        "source =  'eer'\n",
        "target = 'near'\n",
        "matrix, min_edits = min_edit_distance(source, target)\n",
        "print(\"minimum edits: \",min_edits, \"\\n\")\n",
        "idx = list(source)\n",
        "idx.insert(0, '#')\n",
        "cols = list(target)\n",
        "cols.insert(0, '#')\n",
        "df = pd.DataFrame(matrix, index=idx, columns= cols)\n",
        "print(df)"
      ],
      "execution_count": null,
      "outputs": [
        {
          "output_type": "stream",
          "text": [
            "minimum edits:  3 \n",
            "\n",
            "   #  n  e  a  r\n",
            "#  0  1  2  3  4\n",
            "e  1  2  1  2  3\n",
            "e  2  3  2  3  4\n",
            "r  3  4  3  4  3\n"
          ],
          "name": "stdout"
        }
      ]
    },
    {
      "cell_type": "markdown",
      "metadata": {
        "id": "MMRr_BWlxMTL",
        "colab_type": "text"
      },
      "source": [
        "**Expected Results**  \n",
        "```CPP\n",
        "minimum edits:  3 \n",
        "\n",
        "   #  n  e  a  r\n",
        "#  0  1  2  3  4\n",
        "e  1  2  1  2  3\n",
        "e  2  3  2  3  4\n",
        "r  3  4  3  4  3\n",
        "```"
      ]
    }
  ]
}